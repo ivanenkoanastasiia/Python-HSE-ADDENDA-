{
  "nbformat": 4,
  "nbformat_minor": 0,
  "metadata": {
    "colab": {
      "name": "Untitled2.ipynb",
      "provenance": []
    },
    "kernelspec": {
      "name": "python3",
      "display_name": "Python 3"
    }
  },
  "cells": [
    {
      "cell_type": "code",
      "metadata": {
        "colab": {
          "base_uri": "https://localhost:8080/",
          "height": 235
        },
        "id": "7XdP_Tk2xJhH",
        "outputId": "1a55a176-3b46-49e7-9d3f-87d5f625b2d5"
      },
      "source": [
        "alphabet = {\r\n",
        "    'а': 'a',\r\n",
        "    'б': 'b',\r\n",
        "    'в': 'v',\r\n",
        "    'г': 'g',\r\n",
        "    'д': 'd',\r\n",
        "    'е': 'e',\r\n",
        "    'ё': 'jo',\r\n",
        "    'ж': 'zh',\r\n",
        "    'з': 'z',\r\n",
        "    'и': 'i',\r\n",
        "    'й': 'i',\r\n",
        "    'к': 'k',\r\n",
        "    'л': 'l',\r\n",
        "    'м': 'm',\r\n",
        "    'н': 'n',\r\n",
        "    'о': 'o',\r\n",
        "    'п': 'p',\r\n",
        "    'р': 'r',\r\n",
        "    'с': 's',\r\n",
        "    'т': 't',\r\n",
        "    'у': 'u',\r\n",
        "    'ф': 'f',\r\n",
        "    'х': 'h',\r\n",
        "    'ц': 'c',\r\n",
        "    'ч': 'ch',\r\n",
        "    'ш': 'sh',\r\n",
        "    'щ': 'sch',\r\n",
        "    'ы': 'y',\r\n",
        "    'э': 'e',\r\n",
        "    'ю': 'u',\r\n",
        "    'я': 'ja',\r\n",
        "    'А': 'A',\r\n",
        "    'Б': 'B',\r\n",
        "    'В': 'V',\r\n",
        "    'Г': 'G',\r\n",
        "    'Д': 'D',\r\n",
        "    'Е': 'E',\r\n",
        "    'Ё': 'JO',\r\n",
        "    'Ж': 'ZH',\r\n",
        "    'З': 'Z',\r\n",
        "    'И': 'I',\r\n",
        "    'Й': 'I',\r\n",
        "    'К': 'K',\r\n",
        "    'Л': 'L',\r\n",
        "    'М': 'M',\r\n",
        "    'Н': 'N',\r\n",
        "    'О': 'O',\r\n",
        "    'П': 'P',\r\n",
        "    'Р': 'R',\r\n",
        "    'С': 'S',\r\n",
        "    'Т': 'T',\r\n",
        "    'У': 'U',\r\n",
        "    'Ф': 'F',\r\n",
        "    'Х': 'H',\r\n",
        "    'Ц': 'C',\r\n",
        "    'Ч': 'CH',\r\n",
        "    'Ш': 'SH',\r\n",
        "    'Щ': 'SCH',\r\n",
        "    'Ы': 'y',\r\n",
        "    'Э': 'E',\r\n",
        "    'Ю': 'U',\r\n",
        "    'Я': 'YA'}\r\n",
        "for key in alphabet:\r\n",
        "      alphabet.get(' ', key)\r\n",
        "      input (\"Введите ваше слово на кириллице:\", key)\r\n",
        "\r\n",
        "\r\n"
      ],
      "execution_count": null,
      "outputs": [
        {
          "output_type": "error",
          "ename": "TypeError",
          "evalue": "ignored",
          "traceback": [
            "\u001b[0;31m---------------------------------------------------------------------------\u001b[0m",
            "\u001b[0;31mTypeError\u001b[0m                                 Traceback (most recent call last)",
            "\u001b[0;32m<ipython-input-56-5bf0ff23e426>\u001b[0m in \u001b[0;36m<module>\u001b[0;34m()\u001b[0m\n\u001b[1;32m     64\u001b[0m \u001b[0;32mfor\u001b[0m \u001b[0mkey\u001b[0m \u001b[0;32min\u001b[0m \u001b[0malphabet\u001b[0m\u001b[0;34m:\u001b[0m\u001b[0;34m\u001b[0m\u001b[0;34m\u001b[0m\u001b[0m\n\u001b[1;32m     65\u001b[0m       \u001b[0malphabet\u001b[0m\u001b[0;34m.\u001b[0m\u001b[0mget\u001b[0m\u001b[0;34m(\u001b[0m\u001b[0;34m' '\u001b[0m\u001b[0;34m,\u001b[0m \u001b[0mkey\u001b[0m\u001b[0;34m)\u001b[0m\u001b[0;34m\u001b[0m\u001b[0;34m\u001b[0m\u001b[0m\n\u001b[0;32m---> 66\u001b[0;31m       \u001b[0minput\u001b[0m \u001b[0;34m(\u001b[0m\u001b[0;34m\"Введите ваше слово на кириллице:\"\u001b[0m\u001b[0;34m,\u001b[0m \u001b[0mkey\u001b[0m\u001b[0;34m)\u001b[0m\u001b[0;34m\u001b[0m\u001b[0;34m\u001b[0m\u001b[0m\n\u001b[0m\u001b[1;32m     67\u001b[0m \u001b[0;34m\u001b[0m\u001b[0m\n\u001b[1;32m     68\u001b[0m \u001b[0;34m\u001b[0m\u001b[0m\n",
            "\u001b[0;31mTypeError\u001b[0m: raw_input() takes from 1 to 2 positional arguments but 3 were given"
          ]
        }if key in alphabet:
      alphabet.get(' ', key)
      i = alphabet.get(' ', key)
def ввод():
      result = input("Введите ваше слово: ")
      print(result, i)
      ]
    }
  ]
}
