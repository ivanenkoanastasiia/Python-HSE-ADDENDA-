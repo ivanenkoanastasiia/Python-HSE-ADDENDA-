{
  "nbformat": 4,
  "nbformat_minor": 0,
  "metadata": {
    "colab": {
      "name": "Hometask_4.1_(генератор компаний на проверку).ipynb",
      "provenance": [],
      "collapsed_sections": []
    },
    "kernelspec": {
      "name": "python3",
      "display_name": "Python 3"
    }
  },
  "cells": [
    {
      "cell_type": "code",
      "metadata": {
        "id": "VSX59T9YbDBv",
        "colab": {
          "base_uri": "https://localhost:8080/"
        },
        "outputId": "819e7a28-75dc-4de3-c525-b1772772e9a8"
      },
      "source": [
        "# задание - напишите генератор названий компаний\r\n",
        "# пусть в названии компании будет 6 частей, рандомно выбирающихся из списка names\r\n",
        "\r\n",
        "import random\r\n",
        "\r\n",
        "names = [\"пром\",\"агро\",\"торг\",\"урал\",\"север\",\"юг\",\"техно\",\r\n",
        "\"экспо\",\"метал\",\"нефть\",\"сельхоз\",\"фарм\",\"строй\",\r\n",
        "\"кредит\",\"алмаз\",\"-девелопмент\",\"развитие\",\"мос\",\r\n",
        "\"рос\",\"кубань\",\"сибирь\",\"восток\",\"нано\",\"софт\",\r\n",
        "\"микро\",\"онлайн\",\"инвест\",\"текстиль\",\"цемент\"]\r\n",
        "\r\n",
        "\r\n",
        "company = ''.join([random.choice(names) for x in range(6)])\r\n",
        "print(company)\r\n",
        "\r\n",
        "# запустите ячейку несклько раз\r\n",
        "\r\n",
        "\r\n"
      ],
      "execution_count": 81,
      "outputs": [
        {
          "output_type": "stream",
          "text": [
            "софтметалфармнефтьуралторг\n"
          ],
          "name": "stdout"
        }
      ]
    }
  ]
}