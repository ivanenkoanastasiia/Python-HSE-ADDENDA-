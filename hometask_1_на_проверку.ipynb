{
  "nbformat": 4,
  "nbformat_minor": 0,
  "metadata": {
    "colab": {
      "name": "Untitled0.ipynb",
      "provenance": [],
      "collapsed_sections": []
    },
    "kernelspec": {
      "name": "python3",
      "display_name": "Python 3"
    }
  },
  "cells": [
    {
      "cell_type": "code",
      "metadata": {
        "colab": {
          "base_uri": "https://localhost:8080/",
          "height": 262
        },
        "id": "yu-g37fj77pY",
        "outputId": "b550a54b-d5a3-4267-82a7-20f64cb53283"
      },
      "source": [
        "# задание 1\r\n",
        "a = 23\r\n",
        "b = 34.02\r\n",
        "c = \"python is cool \"\r\n",
        "d = \"you are cool, too\"\r\n",
        "\r\n",
        "# конкатенировать можно, например, числа \r\n",
        "concat = a + b\r\n",
        "print(concat)\r\n",
        "# или можно конкатенировать строки \r\n",
        "concat_1 = c + d\r\n",
        "print(concat_1)\r\n",
        "# а вот число со строкой конкатенировать нельзя, выдаёт ошибку \r\n",
        "concat_2 = a + c\r\n",
        "print(concat_2)\r\n"
      ],
      "execution_count": 45,
      "outputs": [
        {
          "output_type": "stream",
          "text": [
            "57.02\n",
            "python is cool you are cool, too\n"
          ],
          "name": "stdout"
        },
        {
          "output_type": "error",
          "ename": "TypeError",
          "evalue": "ignored",
          "traceback": [
            "\u001b[0;31m---------------------------------------------------------------------------\u001b[0m",
            "\u001b[0;31mTypeError\u001b[0m                                 Traceback (most recent call last)",
            "\u001b[0;32m<ipython-input-45-d1d5946a5ea4>\u001b[0m in \u001b[0;36m<module>\u001b[0;34m()\u001b[0m\n\u001b[1;32m     12\u001b[0m \u001b[0mprint\u001b[0m\u001b[0;34m(\u001b[0m\u001b[0mconcat_1\u001b[0m\u001b[0;34m)\u001b[0m\u001b[0;34m\u001b[0m\u001b[0;34m\u001b[0m\u001b[0m\n\u001b[1;32m     13\u001b[0m \u001b[0;31m# а вот число со строкой конкатенировать нельзя, выдаст ошибку\u001b[0m\u001b[0;34m\u001b[0m\u001b[0;34m\u001b[0m\u001b[0;34m\u001b[0m\u001b[0m\n\u001b[0;32m---> 14\u001b[0;31m \u001b[0mconcat_2\u001b[0m \u001b[0;34m=\u001b[0m \u001b[0ma\u001b[0m \u001b[0;34m+\u001b[0m \u001b[0mc\u001b[0m\u001b[0;34m\u001b[0m\u001b[0;34m\u001b[0m\u001b[0m\n\u001b[0m\u001b[1;32m     15\u001b[0m \u001b[0mprint\u001b[0m\u001b[0;34m(\u001b[0m\u001b[0mconcat_2\u001b[0m\u001b[0;34m)\u001b[0m\u001b[0;34m\u001b[0m\u001b[0;34m\u001b[0m\u001b[0m\n\u001b[1;32m     16\u001b[0m \u001b[0;34m\u001b[0m\u001b[0m\n",
            "\u001b[0;31mTypeError\u001b[0m: unsupported operand type(s) for +: 'int' and 'str'"
          ]
        }
      ]
    },
    {
      "cell_type": "code",
      "metadata": {
        "colab": {
          "base_uri": "https://localhost:8080/"
        },
        "id": "OiAo73un-nf3",
        "outputId": "176dd745-92b3-42c0-8b35-fa4caa0c48a5"
      },
      "source": [
        "# умножать можно числа дру на друга\r\n",
        "proizv = a * b\r\n",
        "print(proizv)\r\n",
        "# или можно умножить текст на число, но только на ЦЕЛОЕ (если на дробное, например, на b, то выдаст ошибку)\r\n",
        "proizv1 = a * c\r\n",
        "print(proizv1)\r\n"
      ],
      "execution_count": 56,
      "outputs": [
        {
          "output_type": "stream",
          "text": [
            "782.46\n",
            "python is cool python is cool python is cool python is cool python is cool python is cool python is cool python is cool python is cool python is cool python is cool python is cool python is cool python is cool python is cool python is cool python is cool python is cool python is cool python is cool python is cool python is cool python is cool \n"
          ],
          "name": "stdout"
        }
      ]
    },
    {
      "cell_type": "code",
      "metadata": {
        "colab": {
          "base_uri": "https://localhost:8080/"
        },
        "id": "ZsNFjXz6_mzn",
        "outputId": "b4bec61d-dc1a-4240-91ac-9e4b26f0986f"
      },
      "source": [
        "# вычитать можно число из числа \r\n",
        "minus = a-b\r\n",
        "print(minus)\r\n",
        "# число из текста или текст из числа вычесть нельзя\r\n",
        "# текст из текста вычесть тоже нельзя \r\n"
      ],
      "execution_count": 54,
      "outputs": [
        {
          "output_type": "stream",
          "text": [
            "-11.020000000000003\n"
          ],
          "name": "stdout"
        }
      ]
    },
    {
      "cell_type": "code",
      "metadata": {
        "colab": {
          "base_uri": "https://localhost:8080/"
        },
        "id": "R1cZIrSLAkts",
        "outputId": "0e195ee0-b128-43dc-d1d4-844296af4aa6"
      },
      "source": [
        "# задание 2 - Придумайте такую строку (на любом знакомом Вам языке),чтобы она состояла из трех других\r\n",
        "# - вероятно, можем использовать конкатенацию или умножение. начнём с последнего \r\n",
        "\r\n",
        "str = 'я хочу освоить python! '\r\n",
        "proizv_str = str * 3\r\n",
        "print(proizv_str)\r\n",
        "\r\n",
        "# ну, а теперь конкатенация \r\n",
        "str1 = \"я хочу \"\r\n",
        "str2 = \"освоить \"\r\n",
        "str3 = \"питон!\"\r\n",
        "summa123 = str1 + str2 + str3\r\n",
        "print(summa123)\r\n"
      ],
      "execution_count": 60,
      "outputs": [
        {
          "output_type": "stream",
          "text": [
            "я хочу освоить python! я хочу освоить python! я хочу освоить python! \n",
            "я хочу освоить питон!\n"
          ],
          "name": "stdout"
        }
      ]
    },
    {
      "cell_type": "code",
      "metadata": {
        "colab": {
          "base_uri": "https://localhost:8080/"
        },
        "id": "M9CgNJUqCP_j",
        "outputId": "b49dc01b-b97c-4bc6-baf6-cf47fdef2a2f"
      },
      "source": [
        "# задание 3 - Как из слова \"апельсин\" сделать слово \"спаниель\" ?\r\n",
        "text1 = \"спаниель\"\r\n",
        "text2 = \"апельсин\"\r\n",
        "# c - это пятый символ; па - это нулевой и первый с обратным шагом; ни - это последний и предпоследний с обратным шагом; ель - это второй, третий и четвертый \r\n",
        "text1 = text2[5] + text2[1::-1] + text2[:5:-1] + text2[2:5]\r\n",
        "print(text1)\r\n"
      ],
      "execution_count": 107,
      "outputs": [
        {
          "output_type": "stream",
          "text": [
            "спаниель\n"
          ],
          "name": "stdout"
        }
      ]
    },
    {
      "cell_type": "code",
      "metadata": {
        "colab": {
          "base_uri": "https://localhost:8080/"
        },
        "id": "5rRG4pOZKTwf",
        "outputId": "408fdaf4-0351-4bd2-da6a-5305933dea22"
      },
      "source": [
        "# задание 4 - элементы в переменной text преобразуйте в нижний регистр, а затем запишите наоборот, с последнего элемента по первый\r\n",
        "\r\n",
        "text = \"WOW, NOEL SEES LEON\"\r\n",
        "# решение\r\n",
        "text1 = text.lower()\r\n",
        "print(text.lower())\r\n",
        "\r\n",
        "text2 = text1[20::-1]\r\n",
        "print(text2)\r\n",
        "# но всё равно почему-то до конца не переворачивает... Анастасия, помогите, пожалуйста :))) мой ник в телеге @AnastasiiaIvanenko "
      ],
      "execution_count": 125,
      "outputs": [
        {
          "output_type": "stream",
          "text": [
            "wow, noel sees leon\n",
            "noel sees leon ,wow\n"
          ],
          "name": "stdout"
        }
      ]
    }
  ]
}