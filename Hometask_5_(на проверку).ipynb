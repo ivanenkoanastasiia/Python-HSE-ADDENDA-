{
  "nbformat": 4,
  "nbformat_minor": 0,
  "metadata": {
    "colab": {
      "name": "Hometask_5_(re).ipynb",
      "provenance": []
    },
    "kernelspec": {
      "name": "python3",
      "display_name": "Python 3"
    }
  },
  "cells": [
    {
      "cell_type": "code",
      "metadata": {
        "id": "7XdP_Tk2xJhH",
        "colab": {
          "base_uri": "https://localhost:8080/"
        },
        "outputId": "a5400b10-4e45-4251-e856-a98791110afe"
      },
      "source": [
        "alphabet = {\r\n",
        "    'а': 'a',\r\n",
        "    'б': 'b',\r\n",
        "    'в': 'v',\r\n",
        "    'г': 'g',\r\n",
        "    'д': 'd',\r\n",
        "    'е': 'e',\r\n",
        "    'ё': 'jo',\r\n",
        "    'ж': 'zh',\r\n",
        "    'з': 'z',\r\n",
        "    'и': 'i',\r\n",
        "    'й': 'i',\r\n",
        "    'к': 'k',\r\n",
        "    'л': 'l',\r\n",
        "    'м': 'm',\r\n",
        "    'н': 'n',\r\n",
        "    'о': 'o',\r\n",
        "    'п': 'p',\r\n",
        "    'р': 'r',\r\n",
        "    'с': 's',\r\n",
        "    'т': 't',\r\n",
        "    'у': 'u',\r\n",
        "    'ф': 'f',\r\n",
        "    'х': 'h',\r\n",
        "    'ц': 'c',\r\n",
        "    'ч': 'ch',\r\n",
        "    'ш': 'sh',\r\n",
        "    'щ': 'sch',\r\n",
        "    'ы': 'y',\r\n",
        "    'э': 'e',\r\n",
        "    'ю': 'u',\r\n",
        "    'я': 'ja',\r\n",
        "    'А': 'A',\r\n",
        "    'Б': 'B',\r\n",
        "    'В': 'V',\r\n",
        "    'Г': 'G',\r\n",
        "    'Д': 'D',\r\n",
        "    'Е': 'E',\r\n",
        "    'Ё': 'JO',\r\n",
        "    'Ж': 'ZH',\r\n",
        "    'З': 'Z',\r\n",
        "    'И': 'I',\r\n",
        "    'Й': 'I',\r\n",
        "    'К': 'K',\r\n",
        "    'Л': 'L',\r\n",
        "    'М': 'M',\r\n",
        "    'Н': 'N',\r\n",
        "    'О': 'O',\r\n",
        "    'П': 'P',\r\n",
        "    'Р': 'R',\r\n",
        "    'С': 'S',\r\n",
        "    'Т': 'T',\r\n",
        "    'У': 'U',\r\n",
        "    'Ф': 'F',\r\n",
        "    'Х': 'H',\r\n",
        "    'Ц': 'C',\r\n",
        "    'Ч': 'CH',\r\n",
        "    'Ш': 'SH',\r\n",
        "    'Щ': 'SCH',\r\n",
        "    'Ы': 'y',\r\n",
        "    'Э': 'E',\r\n",
        "    'Ю': 'U',\r\n",
        "    'Я': 'YA'}\r\n",
        "input_word = input(\"Введите ваше слово: \")\r\n",
        "result_word = ''\r\n",
        "for i in input_word:\r\n",
        "  if i in alphabet:\r\n",
        "    result_word += alphabet[i]\r\n",
        "  else:\r\n",
        "    result += i\r\n",
        "print(result_word)\r\n",
        "\r\n",
        "\r\n",
        "\r\n",
        "\r\n"
      ],
      "execution_count": 8,
      "outputs": [
        {
          "output_type": "stream",
          "text": [
            "Введите ваше слово: программирование\n",
            "programmirovanie\n"
          ],
          "name": "stdout"
        }
      ]
    }
  ]
}