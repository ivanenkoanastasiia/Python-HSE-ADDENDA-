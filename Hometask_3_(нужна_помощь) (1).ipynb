{
  "nbformat": 4,
  "nbformat_minor": 0,
  "metadata": {
    "colab": {
      "name": "Hometask_3_(нужна помощь).ipynb",
      "provenance": []
    },
    "kernelspec": {
      "name": "python3",
      "display_name": "Python 3"
    }
  },
  "cells": [
    {
      "cell_type": "code",
      "metadata": {
        "id": "7XdP_Tk2xJhH",
        "colab": {
          "base_uri": "https://localhost:8080/"
        },
        "outputId": "afcd1b95-d1b4-476e-8a43-e1ccc29e8715"
      },
      "source": [
        "dict = {\r\n",
        "    'а': 'a',\r\n",
        "    'б': 'b',\r\n",
        "    'в': 'v',\r\n",
        "    'г': 'g',\r\n",
        "    'д': 'd',\r\n",
        "    'е': 'e',\r\n",
        "    'ё': 'jo',\r\n",
        "    'ж': 'zh',\r\n",
        "    'з': 'z',\r\n",
        "    'и': 'i',\r\n",
        "    'й': 'i',\r\n",
        "    'к': 'k',\r\n",
        "    'л': 'l',\r\n",
        "    'м': 'm',\r\n",
        "    'н': 'n',\r\n",
        "    'о': 'o',\r\n",
        "    'п': 'p',\r\n",
        "    'р': 'r',\r\n",
        "    'с': 's',\r\n",
        "    'т': 't',\r\n",
        "    'у': 'u',\r\n",
        "    'ф': 'f',\r\n",
        "    'х': 'h',\r\n",
        "    'ц': 'c',\r\n",
        "    'ч': 'ch',\r\n",
        "    'ш': 'sh',\r\n",
        "    'щ': 'sch',\r\n",
        "    'ы': 'y',\r\n",
        "    'э': 'e',\r\n",
        "    'ю': 'u',\r\n",
        "    'я': 'ja',\r\n",
        "    'А': 'A',\r\n",
        "    'Б': 'B',\r\n",
        "    'В': 'V',\r\n",
        "    'Г': 'G',\r\n",
        "    'Д': 'D',\r\n",
        "    'Е': 'E',\r\n",
        "    'Ё': 'JO',\r\n",
        "    'Ж': 'ZH',\r\n",
        "    'З': 'Z',\r\n",
        "    'И': 'I',\r\n",
        "    'Й': 'I',\r\n",
        "    'К': 'K',\r\n",
        "    'Л': 'L',\r\n",
        "    'М': 'M',\r\n",
        "    'Н': 'N',\r\n",
        "    'О': 'O',\r\n",
        "    'П': 'P',\r\n",
        "    'Р': 'R',\r\n",
        "    'С': 'S',\r\n",
        "    'Т': 'T',\r\n",
        "    'У': 'U',\r\n",
        "    'Ф': 'F',\r\n",
        "    'Х': 'H',\r\n",
        "    'Ц': 'C',\r\n",
        "    'Ч': 'CH',\r\n",
        "    'Ш': 'SH',\r\n",
        "    'Щ': 'SCH',\r\n",
        "    'Ы': 'y',\r\n",
        "    'Э': 'E',\r\n",
        "    'Ю': 'U',\r\n",
        "    'Я': 'YA'}\r\n",
        "result = input(\"Введите ваше слово: \")\r\n",
        "result = result.split\r\n",
        "# print(result)\r\n",
        "if result in dict:\r\n",
        "      result = dict.get(' ', key) # вызываем значения по ключам\r\n",
        "      print(result)\r\n",
        "\r\n",
        "\r\n",
        "\r\n",
        "\r\n",
        "\r\n",
        "\r\n"
      ],
      "execution_count": 59,
      "outputs": [
        {
          "output_type": "stream",
          "text": [
            "Введите ваше слово: кошка\n",
            "<built-in method split of str object at 0x7f6831d73710>\n"
          ],
          "name": "stdout"
        }
      ]
    }
  ]
}