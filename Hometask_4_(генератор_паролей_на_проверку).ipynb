{
  "nbformat": 4,
  "nbformat_minor": 0,
  "metadata": {
    "colab": {
      "name": "Hometask_4_(генератор паролей на проверку).ipynb",
      "provenance": []
    },
    "kernelspec": {
      "name": "python3",
      "display_name": "Python 3"
    }
  },
  "cells": [
    {
      "cell_type": "code",
      "metadata": {
        "colab": {
          "base_uri": "https://localhost:8080/"
        },
        "id": "jM45-9Q8FU7-",
        "outputId": "d878f5f5-03ca-4ca4-dfe5-c65ad73cc7c9"
      },
      "source": [
        "# задание - создать генератор паролей:\r\n",
        "# длина пароля - 15 символов\r\n",
        "# в пароле есть 3 заглавные буквы \r\n",
        "# в пароле есть 4 цифры \r\n",
        "# оставшиеся символы пароля - строчные латинские буквы\r\n",
        "\r\n",
        "import random\r\n",
        "passw = '' \r\n",
        "passw2 = ''\r\n",
        "passw3 = ''\r\n",
        "\r\n",
        "for x in range(3): \r\n",
        "    passw = passw + random.choice('QWERTYUIOPASDFGHJKLZXCVBNM')\r\n",
        "for x in range(4):\r\n",
        "    passw2 = passw2 + random.choice('0123456789')\r\n",
        "for x in range(8):\r\n",
        "    passw3 = passw3 + random.choice('qwertyuiopasdfghjklzxcvbnm')\r\n",
        "finalpassw = passw +passw2 +passw3\r\n",
        "print(finalpassw) \r\n",
        "\r\n",
        "# далее попробую рандомизировать порядок элементов в пароле \r\n",
        "# сохранимся как список \r\n",
        "random_password = list(finalpassw)\r\n",
        "# перемешиваем список\r\n",
        "random.shuffle(random_password)\r\n",
        "# извлекаем из списка 15 значений\r\n",
        "final_random_psw = ''.join([random.choice(random_password) for x in range(15)])\r\n",
        "# Пароль готов\r\n",
        "print(final_random_psw)\r\n",
        "\r\n"
      ],
      "execution_count": 75,
      "outputs": [
        {
          "output_type": "stream",
          "text": [
            "HIU1311iubtngsy\n",
            "13IIHy11stsI1Un\n"
          ],
          "name": "stdout"
        }
      ]
    }
  ]
}